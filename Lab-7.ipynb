{
 "cells": [
  {
   "cell_type": "code",
   "execution_count": 11,
   "id": "9687ba8f-86c7-4d9f-aaf7-3fce1af4f002",
   "metadata": {},
   "outputs": [
    {
     "name": "stdout",
     "output_type": "stream",
     "text": [
      "     Name   Age  Gender       City   Salary\n",
      "0   Aarav  25.0    Male     Mumbai  70000.0\n",
      "1  Vihaan  28.0    Male        NaN  80000.0\n",
      "2  Vivaan   NaN    Male  Bangalore  75000.0\n",
      "3  Aditya  29.0     NaN  Hyderabad      NaN\n",
      "4     NaN  22.0  Female    Chennai  62000.0\n",
      "5  Ananya  27.0  Female    Kolkata  68000.0\n",
      "6  Ishaan  26.0    Male       Pune      NaN\n"
     ]
    }
   ],
   "source": [
    "import pandas as pd\n",
    "import numpy as np\n",
    "\n",
    "data = {\n",
    "    \"Name\": [\"Aarav\", \"Vihaan\", \"Vivaan\", \"Aditya\", np.nan, \"Ananya\", \"Ishaan\"],\n",
    "    \"Age\": [25, 28, np.nan, 29, 22, 27, 26],\n",
    "    \"Gender\": [\"Male\", \"Male\", \"Male\", np.nan, \"Female\", \"Female\", \"Male\"],\n",
    "    \"City\": [\"Mumbai\", np.nan, \"Bangalore\", \"Hyderabad\", \"Chennai\", \"Kolkata\", \"Pune\"],\n",
    "    \"Salary\": [70000, 80000, 75000, np.nan, 62000, 68000, np.nan],\n",
    "}\n",
    "\n",
    "df = pd.DataFrame(data)\n",
    "print(df)"
   ]
  },
  {
   "cell_type": "code",
   "execution_count": 4,
   "id": "f9faeb16-b176-4f42-ba8c-887f2518a384",
   "metadata": {},
   "outputs": [
    {
     "data": {
      "text/html": [
       "<div>\n",
       "<style scoped>\n",
       "    .dataframe tbody tr th:only-of-type {\n",
       "        vertical-align: middle;\n",
       "    }\n",
       "\n",
       "    .dataframe tbody tr th {\n",
       "        vertical-align: top;\n",
       "    }\n",
       "\n",
       "    .dataframe thead th {\n",
       "        text-align: right;\n",
       "    }\n",
       "</style>\n",
       "<table border=\"1\" class=\"dataframe\">\n",
       "  <thead>\n",
       "    <tr style=\"text-align: right;\">\n",
       "      <th></th>\n",
       "      <th>Name</th>\n",
       "      <th>Age</th>\n",
       "      <th>Gender</th>\n",
       "      <th>City</th>\n",
       "      <th>Salary</th>\n",
       "    </tr>\n",
       "  </thead>\n",
       "  <tbody>\n",
       "    <tr>\n",
       "      <th>0</th>\n",
       "      <td>Aarav</td>\n",
       "      <td>25.0</td>\n",
       "      <td>Male</td>\n",
       "      <td>Mumbai</td>\n",
       "      <td>70000.0</td>\n",
       "    </tr>\n",
       "    <tr>\n",
       "      <th>5</th>\n",
       "      <td>Ananya</td>\n",
       "      <td>27.0</td>\n",
       "      <td>Female</td>\n",
       "      <td>Kolkata</td>\n",
       "      <td>68000.0</td>\n",
       "    </tr>\n",
       "  </tbody>\n",
       "</table>\n",
       "</div>"
      ],
      "text/plain": [
       "     Name   Age  Gender     City   Salary\n",
       "0   Aarav  25.0    Male   Mumbai  70000.0\n",
       "5  Ananya  27.0  Female  Kolkata  68000.0"
      ]
     },
     "execution_count": 4,
     "metadata": {},
     "output_type": "execute_result"
    }
   ],
   "source": [
    "df.dropna()"
   ]
  },
  {
   "cell_type": "code",
   "execution_count": 14,
   "id": "a1495822-131d-4d60-bf53-fd5d9fa29946",
   "metadata": {},
   "outputs": [
    {
     "name": "stdout",
     "output_type": "stream",
     "text": [
      "     Name   Age  Gender       City   Salary\n",
      "0   Aarav  25.0    Male     Mumbai  70000.0\n",
      "1  Vihaan  28.0    Male      Delhi  80000.0\n",
      "2  Vivaan  30.0    Male  Bangalore  75000.0\n",
      "3  Aditya  29.0    Male  Hyderabad  72000.0\n",
      "4  Shreya  22.0  Female    Chennai  62000.0\n",
      "5  Ananya  27.0  Female    Kolkata  68000.0\n",
      "6  Ishaan  26.0    Male       Pune  75000.0\n"
     ]
    }
   ],
   "source": [
    "df.at[4, 'Name'] = 'Shreya'\n",
    "df.at[1, 'City'] = 'Delhi'\n",
    "df.loc[2, 'Age'] = 30\n",
    "df.at[3, 'Salary'] = 72000\n",
    "df.at[6, 'Salary'] = 75000\n",
    "df.loc[3, 'Gender'] = 'Male'\n",
    "print(df)\n"
   ]
  },
  {
   "cell_type": "code",
   "execution_count": 16,
   "id": "aa5a8807-a421-4bf1-98a2-7a4d26ff44f8",
   "metadata": {},
   "outputs": [
    {
     "name": "stdout",
     "output_type": "stream",
     "text": [
      "Mean Age: 26.714285714285715\n",
      "Mean Salary: 71714.28571428571\n"
     ]
    }
   ],
   "source": [
    "mean_age = df['Age'].mean()\n",
    "mean_salary = df['Salary'].mean()\n",
    "\n",
    "print(\"Mean Age:\", mean_age)\n",
    "print(\"Mean Salary:\", mean_salary)\n"
   ]
  },
  {
   "cell_type": "code",
   "execution_count": 18,
   "id": "12e445f3-4b59-4c5a-9249-3703351234db",
   "metadata": {},
   "outputs": [
    {
     "name": "stdout",
     "output_type": "stream",
     "text": [
      "Name        Aarav\n",
      "Salary    70000.0\n",
      "Name: 0, dtype: object\n",
      "Name       Vihaan\n",
      "Salary    80000.0\n",
      "Name: 1, dtype: object\n",
      "Name       Vivaan\n",
      "Salary    75000.0\n",
      "Name: 2, dtype: object\n",
      "Name       Aditya\n",
      "Salary    72000.0\n",
      "Name: 3, dtype: object\n",
      "Name       Ananya\n",
      "Salary    68000.0\n",
      "Name: 5, dtype: object\n",
      "Name       Ishaan\n",
      "Salary    75000.0\n",
      "Name: 6, dtype: object\n"
     ]
    }
   ],
   "source": [
    "for x in df.index:\n",
    "    if df.loc[x, 'Salary'] >= 65000:\n",
    "        print(df.loc[x, ['Name', 'Salary']])\n",
    "\n"
   ]
  },
  {
   "cell_type": "code",
   "execution_count": 19,
   "id": "a0d91ddc-2a06-4c9c-90a0-de4c7f3842c4",
   "metadata": {},
   "outputs": [
    {
     "name": "stdout",
     "output_type": "stream",
     "text": [
      "     Name   Age  Gender       City   Salary\n",
      "0   Aarav  25.0    Male     Mumbai  70000.0\n",
      "1  Vihaan  28.0    Male      Delhi  80000.0\n",
      "2  Vivaan  30.0    Male  Bangalore  75000.0\n",
      "3  Aditya  29.0    Male  Hyderabad  72000.0\n",
      "4  Shreya  22.0  Female    Chennai  62000.0\n",
      "5  Ananya  27.0  Female    Kolkata  68000.0\n",
      "6  Ishaan  26.0    Male       Pune  75000.0\n"
     ]
    }
   ],
   "source": [
    "print(df)"
   ]
  }
 ],
 "metadata": {
  "kernelspec": {
   "display_name": "Python 3 (ipykernel)",
   "language": "python",
   "name": "python3"
  },
  "language_info": {
   "codemirror_mode": {
    "name": "ipython",
    "version": 3
   },
   "file_extension": ".py",
   "mimetype": "text/x-python",
   "name": "python",
   "nbconvert_exporter": "python",
   "pygments_lexer": "ipython3",
   "version": "3.12.4"
  }
 },
 "nbformat": 4,
 "nbformat_minor": 5
}
