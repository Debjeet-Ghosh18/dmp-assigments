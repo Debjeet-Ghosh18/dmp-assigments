{
 "cells": [
  {
   "cell_type": "code",
   "execution_count": 1,
   "id": "1efd8ab8-ed5d-4e22-b12d-36f70301d56d",
   "metadata": {},
   "outputs": [
    {
     "name": "stdout",
     "output_type": "stream",
     "text": [
      "   Tid                        Items_bought\n",
      "0   10                [Beer, Nuts, Diaper]\n",
      "1   20              [Beer, Coffee, Diaper]\n",
      "2   30                [Beer, Diaper, Eggs]\n",
      "3   40                  [Nuts, Eggs, Milk]\n",
      "4   50  [Nuts, Coffee, Diaper, Eggs, Milk]\n"
     ]
    }
   ],
   "source": [
    "import pandas as pd\n",
    "import numpy as np\n",
    "itemset={'Tid':[10,20,30,40,50],\n",
    "         'Items_bought':[['Beer','Nuts','Diaper'],['Beer','Coffee','Diaper'],['Beer','Diaper','Eggs'],\n",
    "                         ['Nuts','Eggs','Milk'],['Nuts','Coffee','Diaper','Eggs','Milk']],\n",
    "         }\n",
    "df=pd.DataFrame(itemset)\n",
    "print(df)"
   ]
  },
  {
   "cell_type": "code",
   "execution_count": 5,
   "id": "58d1d182-d8f3-453d-89fe-e705c1e57625",
   "metadata": {},
   "outputs": [
    {
     "name": "stdout",
     "output_type": "stream",
     "text": [
      "C1 (Candidate 1-itemsets with Support Counts):\n",
      "Beer: 3\n",
      "Nuts: 3\n",
      "Diaper: 4\n",
      "Coffee: 2\n",
      "Eggs: 3\n",
      "Milk: 2\n",
      "\n",
      "L1 (Frequent 1-itemsets with Support Counts):\n",
      "Beer: 3\n",
      "Nuts: 3\n",
      "Diaper: 4\n",
      "Coffee: 2\n",
      "Eggs: 3\n",
      "Milk: 2\n"
     ]
    }
   ],
   "source": [
    "import pandas as pd\n",
    "from collections import Counter\n",
    "itemset = {\n",
    "    'Tid': [10, 20, 30, 40, 50],\n",
    "    'Items_bought': [\n",
    "        ['Beer', 'Nuts', 'Diaper'],\n",
    "        ['Beer', 'Coffee', 'Diaper'],\n",
    "        ['Beer', 'Diaper', 'Eggs'],\n",
    "        ['Nuts', 'Eggs', 'Milk'],\n",
    "        ['Nuts', 'Coffee', 'Diaper', 'Eggs', 'Milk']\n",
    "    ],\n",
    "}\n",
    "\n",
    "df = pd.DataFrame(itemset)\n",
    "C1 = Counter()\n",
    "for items in df['Items_bought']:\n",
    "    C1.update(items)\n",
    "print(\"C1 (Candidate 1-itemsets with Support Counts):\")\n",
    "for item, count in C1.items():\n",
    "    print(f\"{item}: {count}\")\n",
    "\n",
    "min_support = 2\n",
    "L1 = {item: count for item, count in C1.items() if count >= min_support}\n",
    "\n",
    "print(\"\\nL1 (Frequent 1-itemsets with Support Counts):\")\n",
    "for item, count in L1.items():\n",
    "    print(f\"{item}: {count}\")\n"
   ]
  },
  {
   "cell_type": "code",
   "execution_count": 4,
   "id": "4ef6d50e-8d92-4a3b-a4be-eca1397eeee4",
   "metadata": {},
   "outputs": [
    {
     "name": "stdout",
     "output_type": "stream",
     "text": [
      "C2 (Candidate 2-itemsets with Support Counts):\n",
      "('Beer', 'Diaper'): 3\n",
      "('Beer', 'Nuts'): 1\n",
      "('Diaper', 'Nuts'): 2\n",
      "('Beer', 'Coffee'): 1\n",
      "('Coffee', 'Diaper'): 2\n",
      "('Beer', 'Eggs'): 1\n",
      "('Diaper', 'Eggs'): 2\n",
      "('Eggs', 'Milk'): 2\n",
      "('Eggs', 'Nuts'): 2\n",
      "('Milk', 'Nuts'): 2\n",
      "('Coffee', 'Eggs'): 1\n",
      "('Coffee', 'Milk'): 1\n",
      "('Coffee', 'Nuts'): 1\n",
      "('Diaper', 'Milk'): 1\n",
      "\n",
      "L2 (Frequent 2-itemsets with Support Counts):\n",
      "('Beer', 'Diaper'): 3\n",
      "('Diaper', 'Nuts'): 2\n",
      "('Coffee', 'Diaper'): 2\n",
      "('Diaper', 'Eggs'): 2\n",
      "('Eggs', 'Milk'): 2\n",
      "('Eggs', 'Nuts'): 2\n",
      "('Milk', 'Nuts'): 2\n"
     ]
    }
   ],
   "source": [
    "import pandas as pd\n",
    "from collections import Counter\n",
    "from itertools import combinations\n",
    "\n",
    "itemset = {\n",
    "    'Tid': [10, 20, 30, 40, 50],\n",
    "    'Items_bought': [\n",
    "        ['Beer', 'Nuts', 'Diaper'],\n",
    "        ['Beer', 'Coffee', 'Diaper'],\n",
    "        ['Beer', 'Diaper', 'Eggs'],\n",
    "        ['Nuts', 'Eggs', 'Milk'],\n",
    "        ['Nuts', 'Coffee', 'Diaper', 'Eggs', 'Milk']\n",
    "    ],\n",
    "}\n",
    "df = pd.DataFrame(itemset)\n",
    "C1 = Counter()\n",
    "for items in df['Items_bought']:\n",
    "    C1.update(items)\n",
    "min_support = 2\n",
    "L1 = {item: count for item, count in C1.items() if count >= min_support}\n",
    "C2 = Counter()\n",
    "for items in df['Items_bought']:\n",
    "    pairs = combinations(sorted(set(items)), 2)\n",
    "    C2.update(pairs)\n",
    "\n",
    "print(\"C2 (Candidate 2-itemsets with Support Counts):\")\n",
    "for item, count in C2.items():\n",
    "    print(f\"{item}: {count}\")\n",
    "\n",
    "L2 = {item: count for item, count in C2.items() if count >= min_support}\n",
    "print(\"\\nL2 (Frequent 2-itemsets with Support Counts):\")\n",
    "for item, count in L2.items():\n",
    "    print(f\"{item}: {count}\")\n"
   ]
  }
 ],
 "metadata": {
  "kernelspec": {
   "display_name": "Python 3 (ipykernel)",
   "language": "python",
   "name": "python3"
  },
  "language_info": {
   "codemirror_mode": {
    "name": "ipython",
    "version": 3
   },
   "file_extension": ".py",
   "mimetype": "text/x-python",
   "name": "python",
   "nbconvert_exporter": "python",
   "pygments_lexer": "ipython3",
   "version": "3.12.4"
  }
 },
 "nbformat": 4,
 "nbformat_minor": 5
}
